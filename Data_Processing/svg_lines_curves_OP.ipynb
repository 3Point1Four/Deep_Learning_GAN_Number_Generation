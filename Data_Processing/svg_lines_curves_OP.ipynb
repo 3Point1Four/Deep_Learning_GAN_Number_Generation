{
  "nbformat": 4,
  "nbformat_minor": 0,
  "metadata": {
    "colab": {
      "provenance": []
    },
    "kernelspec": {
      "name": "python3",
      "display_name": "Python 3"
    },
    "language_info": {
      "name": "python"
    }
  },
  "cells": [
    {
      "cell_type": "code",
      "source": [
        "!pip install svgwrite"
      ],
      "metadata": {
        "colab": {
          "base_uri": "https://localhost:8080/"
        },
        "id": "TTfK_Lz0FZPk",
        "outputId": "886173bf-b47d-4f89-e5f7-941e5e6cff3b"
      },
      "execution_count": 39,
      "outputs": [
        {
          "output_type": "stream",
          "name": "stdout",
          "text": [
            "Requirement already satisfied: svgwrite in /usr/local/lib/python3.10/dist-packages (1.4.3)\n"
          ]
        }
      ]
    },
    {
      "cell_type": "code",
      "source": [
        "import svgwrite"
      ],
      "metadata": {
        "id": "lFTdesZ-FVcn"
      },
      "execution_count": 40,
      "outputs": []
    },
    {
      "cell_type": "code",
      "execution_count": 41,
      "metadata": {
        "id": "zsTeZDx0FNeq"
      },
      "outputs": [],
      "source": [
        "def create_svg_path_from_file(input_file, output_file):\n",
        "    with open(input_file, 'r') as file:\n",
        "        points = [tuple(map(int, line.strip().split(','))) for line in file]\n",
        "\n",
        "    if not points:\n",
        "        print(\"No points found in the input file.\")\n",
        "        return\n",
        "\n",
        "    dwg = svgwrite.Drawing(output_file, profile='tiny', size=(200, 200))\n",
        "\n",
        "    path = dwg.path(d=\"M{},{} \".format(points[0][0], points[0][1]))\n",
        "\n",
        "    for x, y in points[1:]:\n",
        "        path.push('L{},{}'.format(x, y))\n",
        "\n",
        "    dwg.add(path)\n",
        "\n",
        "    with open(output_file, 'w') as output_file:\n",
        "        output_file.write(dwg.tostring())\n",
        "\n",
        "input_file = 'final_path.txt'\n",
        "output_file = 'output_lines.svg'\n",
        "\n",
        "create_svg_path_from_file(input_file, output_file)"
      ]
    },
    {
      "cell_type": "code",
      "source": [
        "import svgwrite\n",
        "import math\n",
        "\n",
        "def calculate_angle(p1, p2, p3):\n",
        "    x1, y1 = p1\n",
        "    x2, y2 = p2\n",
        "    x3, y3 = p3\n",
        "\n",
        "    ux, uy = x2 - x1, y2 - y1\n",
        "    vx, vy = x3 - x2, y3 - y2\n",
        "\n",
        "    dot_product = ux * vx + uy * vy\n",
        "    magnitude1 = (ux ** 2 + uy ** 2) ** 0.5\n",
        "    magnitude2 = (vx ** 2 + vy ** 2) ** 0.5\n",
        "\n",
        "    angle = math.acos(dot_product / (magnitude1 * magnitude2)) * (180 / math.pi)\n",
        "    return angle\n",
        "\n",
        "def load_path_from_txt(filename):\n",
        "    with open(filename, 'r') as file:\n",
        "        lines = file.readlines()\n",
        "    points = []\n",
        "    for line in lines:\n",
        "        x, y = map(int, line.strip().split(','))\n",
        "        points.append((x, y))\n",
        "    return points\n",
        "\n",
        "def create_svg_path_with_curves(points, output_filename):\n",
        "    dwg = svgwrite.Drawing(output_filename, profile='tiny', size=(200, 200))\n",
        "\n",
        "    path = dwg.path(d=\"M{},{} \".format(points[0][0], points[0][1]))\n",
        "\n",
        "    for i in range(len(points) - 2):\n",
        "        p1 = points[i]\n",
        "        p2 = points[i + 1]\n",
        "        p3 = points[i + 2]\n",
        "        angle = calculate_angle(p1, p2, p3)\n",
        "\n",
        "        if 0 < angle < 60:\n",
        "            x1, y1 = p1\n",
        "            x2, y2 = p2\n",
        "            x3, y3 = p3\n",
        "            path.push('C{},{} {},{} {},{}'.format(x1, y1, x2, y2, x3, y3))\n",
        "        else:\n",
        "            path.push('L{},{}'.format(p3[0], p3[1]))\n",
        "\n",
        "    dwg.add(path)\n",
        "\n",
        "    with open(output_filename, 'w') as output_file:\n",
        "        output_file.write(path.tostring())\n",
        "\n",
        "path_points = load_path_from_txt('final_path.txt')\n",
        "create_svg_path_with_curves(path_points, 'output_curves.svg')\n"
      ],
      "metadata": {
        "id": "rmM9L2aiGb-N"
      },
      "execution_count": 42,
      "outputs": []
    },
    {
      "cell_type": "code",
      "source": [
        "from IPython.display import HTML\n",
        "\n",
        "with open('final_path.txt', 'r') as file:\n",
        "    svg_path_data = file.read()\n",
        "\n",
        "with open('output.svg', 'w') as svg_file:\n",
        "    svg_file.write(f'<svg width=\"200\" height=\"200\">{svg_path_data}</svg>')\n",
        "\n",
        "HTML(f'<a href=\"output.svg\" target=\"_blank\">Open SVG</a>')"
      ],
      "metadata": {
        "colab": {
          "base_uri": "https://localhost:8080/",
          "height": 34
        },
        "id": "PiuOWi8TG_Jq",
        "outputId": "2b7c06ad-0dd7-48a7-f342-461fdaf79717"
      },
      "execution_count": 44,
      "outputs": [
        {
          "output_type": "execute_result",
          "data": {
            "text/plain": [
              "<IPython.core.display.HTML object>"
            ],
            "text/html": [
              "<a href=\"output.svg\" target=\"_blank\">Open SVG</a>"
            ]
          },
          "metadata": {},
          "execution_count": 44
        }
      ]
    }
  ]
}